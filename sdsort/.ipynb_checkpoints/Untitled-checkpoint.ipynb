{
 "cells": [
  {
   "cell_type": "code",
   "execution_count": 2,
   "metadata": {},
   "outputs": [],
   "source": [
    "import numpy as np\n",
    "import pandas as pd\n",
    "from subprocess import check_output\n",
    "\n",
    "\n",
    "syd=pd.read_csv('sym_dis_matrix.csv')\n",
    "dia=pd.read_csv('dia_3.csv')\n",
    "sym=pd.read_csv('sym_3.csv')"
   ]
  },
  {
   "cell_type": "code",
   "execution_count": 3,
   "metadata": {},
   "outputs": [],
   "source": [
    "A=syd\n",
    "A=A.append(A)\n",
    "B=A.drop(['eye'],axis=1)\n",
    "C=B"
   ]
  },
  {
   "cell_type": "code",
   "execution_count": 4,
   "metadata": {},
   "outputs": [
    {
     "name": "stdout",
     "output_type": "stream",
     "text": [
      "109 nr of disease\n",
      "130 nr of symptoms\n"
     ]
    }
   ],
   "source": [
    "C.index.name='eye'\n",
    "C_df=pd.DataFrame(C)\n",
    "dia.reset_index(level=0, inplace=True)\n",
    "print(len(dia)-1, 'nr of disease')\n",
    "print(len(sym)-1, 'nr of symptoms')"
   ]
  },
  {
   "cell_type": "code",
   "execution_count": 5,
   "metadata": {},
   "outputs": [],
   "source": [
    "from scipy.cluster.vq import whiten\n",
    "C=whiten(C_df)"
   ]
  },
  {
   "cell_type": "code",
   "execution_count": 6,
   "metadata": {},
   "outputs": [],
   "source": [
    "from numpy.linalg import inv\n",
    "U,s,V=np.linalg.svd(C,full_matrices=False)"
   ]
  },
  {
   "cell_type": "code",
   "execution_count": 11,
   "metadata": {},
   "outputs": [
    {
     "name": "stdout",
     "output_type": "stream",
     "text": [
      "791.2358192374506 explained variability of total  1108.8275328367754 71.35787990519931  % variation explained\n",
      "(262, 110)\n",
      "(262, 109)\n",
      "(109, 109)\n",
      "(262, 30)\n"
     ]
    }
   ],
   "source": [
    "S=np.diag(s)\n",
    "reductie=30\n",
    "S=S[0:reductie,0:reductie]\n",
    "iS=inv(S)\n",
    "US=np.dot(U[:,0:reductie],iS)\n",
    "print(s[:reductie].sum(), 'explained variability of total ',s.sum(),s[:reductie].sum()/s.sum()*100,\" % variation explained\")\n",
    "US_df=pd.DataFrame(data=US)\n",
    "print(A.shape)\n",
    "print(U.shape)\n",
    "print(V.shape)\n",
    "print(US.shape)\n",
    "\n"
   ]
  },
  {
   "cell_type": "code",
   "execution_count": 12,
   "metadata": {},
   "outputs": [
    {
     "data": {
      "text/plain": [
       "<matplotlib.figure.Figure at 0x7fed0057b588>"
      ]
     },
     "metadata": {},
     "output_type": "display_data"
    },
    {
     "data": {
      "text/plain": [
       "<matplotlib.figure.Figure at 0x7feccd47ed30>"
      ]
     },
     "metadata": {},
     "output_type": "display_data"
    }
   ],
   "source": [
    "import matplotlib.pylab as plt\n",
    "fig = plt.figure()\n",
    "ax = fig.add_subplot(1,1,1)\n",
    "ax.set_aspect('equal')\n",
    "plt.imshow(U, interpolation='nearest', cmap=plt.cm.ocean)\n",
    "plt.colorbar()\n",
    "plt.show()\n",
    "\n",
    "fig = plt.figure()\n",
    "ax = fig.add_subplot(1,1,1)\n",
    "ax.set_aspect('equal')\n",
    "plt.imshow(S, interpolation='nearest', cmap=plt.cm.ocean)\n",
    "plt.colorbar()\n",
    "plt.show()"
   ]
  },
  {
   "cell_type": "code",
   "execution_count": 13,
   "metadata": {},
   "outputs": [
    {
     "data": {
      "image/png": "[encoded data removed]",
      "text/plain": [
       "<matplotlib.figure.Figure at 0x7feccd45e160>"
      ]
     },
     "metadata": {},
     "output_type": "display_data"
    },
    {
     "data": {
      "image/png": "[encoded data removed]",
      "text/plain": [
       "<matplotlib.figure.Figure at 0x7feccd3d3470>"
      ]
     },
     "metadata": {},
     "output_type": "display_data"
    }
   ],
   "source": [
    "\n",
    "import matplotlib.pylab as plt\n",
    "fig = plt.figure()\n",
    "ax = fig.add_subplot(1,1,1)\n",
    "ax.set_aspect('equal')\n",
    "plt.imshow(iS, interpolation='nearest', cmap=plt.cm.ocean)\n",
    "plt.colorbar()\n",
    "plt.show()\n",
    "\n",
    "fig = plt.figure()\n",
    "ax = fig.add_subplot(1,1,1)\n",
    "ax.set_aspect('equal')\n",
    "plt.imshow(US_df, interpolation='nearest', cmap=plt.cm.ocean)\n",
    "plt.colorbar()\n",
    "plt.show()"
   ]
  },
  {
   "cell_type": "code",
   "execution_count": 14,
   "metadata": {},
   "outputs": [
    {
     "name": "stdout",
     "output_type": "stream",
     "text": [
      "     _id               symptom\n",
      "eye                           \n",
      "1      2  Lower abdominal pain\n",
      "49    88   Shortness of breath\n",
      "65   120           Throat pain\n",
      "1\n",
      "0.0\n",
      "48.0\n",
      "64.0\n"
     ]
    },
    {
     "name": "stderr",
     "output_type": "stream",
     "text": [
      "/home/nachiket/.local/lib/python3.5/site-packages/pandas/core/indexes/api.py:87: RuntimeWarning: unorderable types: int() < str(), sort order is undefined for incomparable objects\n",
      "  result = result.union(other)\n",
      "/home/nachiket/.local/lib/python3.5/site-packages/ipykernel_launcher.py:19: DeprecationWarning: \n",
      ".ix is deprecated. Please use\n",
      ".loc for label based indexing or\n",
      ".iloc for positional indexing\n",
      "\n",
      "See the documentation here:\n",
      "http://pandas.pydata.org/pandas-docs/stable/indexing.html#ix-indexer-is-deprecated\n",
      "/home/nachiket/.local/lib/python3.5/site-packages/pandas/core/indexing.py:537: SettingWithCopyWarning: \n",
      "A value is trying to be set on a copy of a slice from a DataFrame.\n",
      "Try using .loc[row_indexer,col_indexer] = value instead\n",
      "\n",
      "See the caveats in the documentation: http://pandas.pydata.org/pandas-docs/stable/indexing.html#indexing-view-versus-copy\n",
      "  self.obj[item] = s\n"
     ]
    },
    {
     "name": "stdout",
     "output_type": "stream",
     "text": [
      "         index   _id                                           diagnose\n",
      "98   84.028161  1363  Takayasu's arteritis\u000b",
      "Giant cell arteritis of t...\n",
      "85   79.807410  1249                  Scleritis\u000b",
      "inflammation of the eye\n",
      "100  72.356612  1367                 Tear duct infection\u000b",
      "Dacryocystitis\n",
      "24   71.962263   330                                        Head trauma\n",
      "86   71.163683  1255                      Focal seizure\u000b",
      "partial seizure\n",
      "33   70.921266   469                          Migraine\u000b",
      "type of headache\n",
      "13   58.262531   163      Cholecystitis\u000b",
      "inflammation of the gallbladder\n",
      "58   53.250574   829               Warfarin\u000b",
      "Coumadin, Jantoven overdose\n",
      "88   51.996028  1283             Farsightedness\u000b",
      "hyperopia/hypermetropia\n",
      "62   50.440191   870                 Hydrocephalus\u000b",
      "brain fluid build-up\n",
      "90   48.243819  1299         Graves eye disease\u000b",
      "Graves ophthalmopathy\n",
      "12   33.283258   162         Cholangitis\u000b",
      "inflammation of the bile ducts\n",
      "7    26.542983    98                        Blepharitis\u000b",
      "eyelid swelling\n",
      "59   26.066697   848         Seizure\u000b",
      "abnormal brain electrical activity\n",
      "14   24.102452   164             Choledocholithiasis\u000b",
      "stone in bile duct\n",
      "30   20.190245   447               Malaria\u000b",
      "mosquito transmitted illness\n",
      "25   20.144242   347                       Hepatitis\u000b",
      "liver inflammation\n"
     ]
    }
   ],
   "source": [
    "Qsym=(sym.loc[(sym['symptom']=='Lower abdominal pain')| (sym['symptom'] == 'Shortness of breath')| (sym['symptom'] == 'Throat pain') ])\n",
    "Qsym.index.name='eye'\n",
    "print(Qsym)\n",
    "print(Qsym.iloc[0,:].name)\n",
    "Qsym2=pd.DataFrame({'eye': []})\n",
    "for xx in range (len(Qsym)):\n",
    "    waa=Qsym.iloc[xx,:].name\n",
    "    print(float(waa-1))\n",
    "    # looking up Symptom 24,30 in US_df\n",
    "    Qsy=pd.DataFrame((pd.DataFrame(US_df.loc[waa-1,:reductie-1]).T))\n",
    "    Qsym2=Qsym2.append(Qsy)\n",
    "del Qsym2['eye']\n",
    "Qtemp=Qsym2.sum()*2\n",
    "dise=(dia[dia['_id']==0])\n",
    "similQd=np.dot(Qtemp,V[0:reductie,:])/np.dot(np.abs(Qtemp),np.abs(V[0:reductie,:]))*100\n",
    "for xyz in range (len(V)):\n",
    "    if similQd[xyz]>20:\n",
    "        disname=dia.iloc[[xyz-1]]\n",
    "        disname.ix[:,'index'] =similQd[xyz]\n",
    "        dise=dise.append(disname)\n",
    "print(dise.sort_values(('index'),ascending=0))"
   ]
  },
  {
   "cell_type": "code",
   "execution_count": 15,
   "metadata": {},
   "outputs": [
    {
     "name": "stderr",
     "output_type": "stream",
     "text": [
      "/home/nachiket/.local/lib/python3.5/site-packages/ipykernel_launcher.py:6: DeprecationWarning: \n",
      ".ix is deprecated. Please use\n",
      ".loc for label based indexing or\n",
      ".iloc for positional indexing\n",
      "\n",
      "See the documentation here:\n",
      "http://pandas.pydata.org/pandas-docs/stable/indexing.html#ix-indexer-is-deprecated\n",
      "  \n",
      "/home/nachiket/.local/lib/python3.5/site-packages/pandas/core/indexing.py:357: SettingWithCopyWarning: \n",
      "A value is trying to be set on a copy of a slice from a DataFrame.\n",
      "Try using .loc[row_indexer,col_indexer] = value instead\n",
      "\n",
      "See the caveats in the documentation: http://pandas.pydata.org/pandas-docs/stable/indexing.html#indexing-view-versus-copy\n",
      "  self.obj[key] = _infer_fill_value(value)\n",
      "/home/nachiket/.local/lib/python3.5/site-packages/pandas/core/indexing.py:537: SettingWithCopyWarning: \n",
      "A value is trying to be set on a copy of a slice from a DataFrame.\n",
      "Try using .loc[row_indexer,col_indexer] = value instead\n",
      "\n",
      "See the caveats in the documentation: http://pandas.pydata.org/pandas-docs/stable/indexing.html#indexing-view-versus-copy\n",
      "  self.obj[item] = s\n"
     ]
    },
    {
     "name": "stdout",
     "output_type": "stream",
     "text": [
      "     _id diagnose      index                          symptom\n",
      "47    81      NaN  89.351449                             Rash\n",
      "63   114      NaN  81.985254                 General weakness\n",
      "65   120      NaN  80.984003                      Throat pain\n",
      "130  295      NaN  69.981323                 Nipple discharge\n",
      "41    68      NaN  69.653394                    Neck swelling\n",
      "83   164      NaN  67.761801                  Loss of balance\n",
      "33    54      NaN  67.761801         Kidney pain (Flank pain)\n",
      "62   113      NaN  67.761801                         Vomiting\n",
      "31    51      NaN  44.661840      Insomnia (Trouble sleeping)\n",
      "82   163      NaN  44.296482                    Bleeding gums\n",
      "21    29      NaN  43.820405                            Fever\n",
      "66   121      NaN  42.803901                          Tremors\n",
      "22    30      NaN  36.556365  Fever in the returning traveler\n",
      "101  203      NaN  32.730841                     Swollen gums\n",
      "4      6      NaN  26.258069                 Arm ache or pain\n",
      "18    26      NaN  23.941915            Eye pain (Irritation)\n"
     ]
    }
   ],
   "source": [
    "syme=dia[dia['_id']==0]\n",
    "similQs=np.dot(Qtemp,US.T)/np.dot(np.abs(Qtemp),np.abs(US.T))*100\n",
    "for xyz in range (len(V)):\n",
    "    if similQs[xyz]>20:\n",
    "        symname=sym.iloc[[xyz-1]]\n",
    "        symname.ix[:,'index']=similQs[xyz]\n",
    "        syme=syme.append(symname)\n",
    "print(syme.sort_values(('index'),ascending=0))"
   ]
  },
  {
   "cell_type": "code",
   "execution_count": null,
   "metadata": {},
   "outputs": [],
   "source": []
  }
 ],
 "metadata": {
  "kernelspec": {
   "display_name": "Python 3",
   "language": "python",
   "name": "python3"
  },
  "language_info": {
   "codemirror_mode": {
    "name": "ipython",
    "version": 3
   },
   "file_extension": ".py",
   "mimetype": "text/x-python",
   "name": "python",
   "nbconvert_exporter": "python",
   "pygments_lexer": "ipython3",
   "version": "3.5.2"
  }
 },
 "nbformat": 4,
 "nbformat_minor": 2
}
